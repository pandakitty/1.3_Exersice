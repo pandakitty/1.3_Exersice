{
 "cells": [
  {
   "cell_type": "code",
   "execution_count": 43,
   "id": "351e82ec",
   "metadata": {},
   "outputs": [
    {
     "data": {
      "text/html": [
       "<div>\n",
       "<style scoped>\n",
       "    .dataframe tbody tr th:only-of-type {\n",
       "        vertical-align: middle;\n",
       "    }\n",
       "\n",
       "    .dataframe tbody tr th {\n",
       "        vertical-align: top;\n",
       "    }\n",
       "\n",
       "    .dataframe thead th {\n",
       "        text-align: right;\n",
       "    }\n",
       "</style>\n",
       "<table border=\"1\" class=\"dataframe\">\n",
       "  <thead>\n",
       "    <tr style=\"text-align: right;\">\n",
       "      <th></th>\n",
       "      <th>User ID</th>\n",
       "      <th>Gender</th>\n",
       "      <th>Age</th>\n",
       "      <th>EstimatedSalary</th>\n",
       "      <th>Purchased</th>\n",
       "    </tr>\n",
       "  </thead>\n",
       "  <tbody>\n",
       "    <tr>\n",
       "      <th>0</th>\n",
       "      <td>15624510</td>\n",
       "      <td>Male</td>\n",
       "      <td>19</td>\n",
       "      <td>19000</td>\n",
       "      <td>0</td>\n",
       "    </tr>\n",
       "    <tr>\n",
       "      <th>1</th>\n",
       "      <td>15810944</td>\n",
       "      <td>Male</td>\n",
       "      <td>35</td>\n",
       "      <td>20000</td>\n",
       "      <td>0</td>\n",
       "    </tr>\n",
       "    <tr>\n",
       "      <th>2</th>\n",
       "      <td>15668575</td>\n",
       "      <td>Female</td>\n",
       "      <td>26</td>\n",
       "      <td>43000</td>\n",
       "      <td>0</td>\n",
       "    </tr>\n",
       "    <tr>\n",
       "      <th>3</th>\n",
       "      <td>15603246</td>\n",
       "      <td>Female</td>\n",
       "      <td>27</td>\n",
       "      <td>57000</td>\n",
       "      <td>0</td>\n",
       "    </tr>\n",
       "    <tr>\n",
       "      <th>4</th>\n",
       "      <td>15804002</td>\n",
       "      <td>Male</td>\n",
       "      <td>19</td>\n",
       "      <td>76000</td>\n",
       "      <td>0</td>\n",
       "    </tr>\n",
       "  </tbody>\n",
       "</table>\n",
       "</div>"
      ],
      "text/plain": [
       "    User ID  Gender  Age  EstimatedSalary  Purchased\n",
       "0  15624510    Male   19            19000          0\n",
       "1  15810944    Male   35            20000          0\n",
       "2  15668575  Female   26            43000          0\n",
       "3  15603246  Female   27            57000          0\n",
       "4  15804002    Male   19            76000          0"
      ]
     },
     "execution_count": 43,
     "metadata": {},
     "output_type": "execute_result"
    }
   ],
   "source": [
    "# Import libraries\n",
    "import numpy as np\n",
    "import pandas as pd\n",
    "import matplotlib.pyplot as plt\n",
    "from sklearn.model_selection import train_test_split\n",
    "from math import exp\n",
    "plt.figure(figsize=(10,6))\n",
    "\n",
    "%matplotlib inline\n",
    "\n",
    "# Gather the dataset\n",
    "# Source of dataset - https://www.kaggle.com/datasets/rakeshrau/social-network-ads\n",
    "\n",
    "# load data set using pandas read CSV method\n",
    "# Save data set in variable called data\n",
    "data = pd.read_csv('Social_Network_Ads.csv')\n",
    "# Call the head method\n",
    "data.head()"
   ]
  },
  {
   "cell_type": "code",
   "execution_count": 44,
   "id": "626e0765",
   "metadata": {},
   "outputs": [
    {
     "data": {
      "image/png": "[encoded data removed]",
      "text/plain": [
       "<Figure size 640x480 with 1 Axes>"
      ]
     },
     "metadata": {},
     "output_type": "display_data"
    }
   ],
   "source": [
    "# Visualize data set\n",
    "# Plotting a scatter plot\n",
    "# Plot Age versus Purchased\n",
    "# Label X and y axis\n",
    "# increase size of visualization\n",
    "plt.scatter(data['Age'], data['Purchased'])\n",
    "plt.show()\n",
    "\n",
    "# Divide the data to training set and test set\n",
    "# Use Train, test, split method \n",
    "# Apply to x and y defined previously\n",
    "# Pass the optional parameter known as test size default from 75% training and 25% testing\n",
    "# Instead use 80% of data for training and 20% of data for testing \n",
    "X_train, X_test, y_train, y_test = train_test_split(data['Age'], data['Purchased'], test_size=0.2)"
   ]
  },
  {
   "cell_type": "code",
   "execution_count": 45,
   "id": "d0da2b36",
   "metadata": {},
   "outputs": [],
   "source": [
    "# Create logistic regression model\n",
    "\n",
    "# function to normalize\n",
    "def normalize(X):\n",
    "    return X - X.mean()\n",
    "\n",
    "# Method used to make predictions\n",
    "# Converted into Numpy array\n",
    "def predict (X, b0, b1):\n",
    "    return np.array([1 / (1 + exp(-1 * b0 + -1 * b1 * x)) for x in X])\n",
    "\n",
    "# Implement a logical algorithm\n",
    "# Run test 150 times, define epochs\n",
    "# Make a prediction\n",
    "# name our variable Y pred\n",
    "# Directly find values of the partial derivatives \n",
    "# name derivative of the loss function to b0 as D_b0\n",
    "# name derivative of the loss function to b1 as D_b1\n",
    "# Covert equations into code\n",
    "# Update the values of b0 and b1\n",
    "# Return the values of b0 and b1\n",
    "def logistic_regression(X, Y):\n",
    "    \n",
    "    X = normalize(X)\n",
    "    \n",
    "    b0 = 0\n",
    "    b1 = 0\n",
    "    L = 0.001\n",
    "    epochs = 150 \n",
    "    \n",
    "    for epoch in range(epochs) : \n",
    "        y_pred = predict(X, b0, b1)\n",
    "        D_b0 = -2 * sum((Y -y_pred) * y_pred * (1 - y_pred))\n",
    "        D_b1 = -2 * sum((Y -y_pred) * y_pred * (1 - y_pred) * X)\n",
    "        b0 = b0 - L * D_b0\n",
    "        b1 = b1 - L * D_b1\n",
    "        \n",
    "    return b0, b1\n",
    "\n",
    "        "
   ]
  },
  {
   "cell_type": "code",
   "execution_count": 46,
   "id": "5e080e53",
   "metadata": {
    "scrolled": false
   },
   "outputs": [
    {
     "name": "stdout",
     "output_type": "stream",
     "text": [
      "-0.9347558929520066 0.1885429604378133\n"
     ]
    }
   ],
   "source": [
    "# Train the model using our training data\n",
    "b0, b1 = logistic_regression(X_train, y_train)\n",
    "print(b0, b1)"
   ]
  },
  {
   "cell_type": "code",
   "execution_count": 54,
   "id": "5059cead",
   "metadata": {},
   "outputs": [
    {
     "name": "stdout",
     "output_type": "stream",
     "text": [
      "Accuracy = 0.625\n"
     ]
    },
    {
     "data": {
      "image/png": "[encoded data removed]",
      "text/plain": [
       "<Figure size 640x480 with 1 Axes>"
      ]
     },
     "metadata": {},
     "output_type": "display_data"
    }
   ],
   "source": [
    "# Normalize the values of the testing values of X\n",
    "# Predict the values\n",
    "# Check the value of y_pred\n",
    "# Define threshold of 0.5 with if else\n",
    "\n",
    "X_test_norm = normalize(X_test)\n",
    "y_pred = predict(X_test_norm, b0, b1)\n",
    "y_pred = [ 1 if y >= 0.1 else 0 for y in y_pred]\n",
    "\n",
    "# Plot and Check\n",
    "plt.scatter(X_test, y_pred)\n",
    "\n",
    "# Find the accuracy \n",
    "accuracy = 0\n",
    "for i in range(len(y_pred)):\n",
    "    if y_pred[i] == y_test.iloc[i]:\n",
    "        accuracy += 1\n",
    "    \n",
    "print(f\"Accuracy = {accuracy / len(y_pred)}\")\n",
    "    \n",
    "# Accuracy is 62.5%"
   ]
  },
  {
   "cell_type": "code",
   "execution_count": 52,
   "id": "727ccb3c",
   "metadata": {
    "scrolled": false
   },
   "outputs": [
    {
     "name": "stderr",
     "output_type": "stream",
     "text": [
      "C:\\Users\\ashem\\AppData\\Local\\Programs\\Python\\Python311\\Lib\\site-packages\\sklearn\\utils\\validation.py:1111: DataConversionWarning: A column-vector y was passed when a 1d array was expected. Please change the shape of y to (n_samples, ), for example using ravel().\n",
      "  y = column_or_1d(y, warn=True)\n"
     ]
    },
    {
     "data": {
      "image/png": "[encoded data removed]",
      "text/plain": [
       "<Figure size 640x480 with 1 Axes>"
      ]
     },
     "metadata": {},
     "output_type": "display_data"
    },
    {
     "name": "stdout",
     "output_type": "stream",
     "text": [
      "Accuracy = 0.8375\n"
     ]
    }
   ],
   "source": [
    "# Implament same algorithm using SQL library\n",
    "# prediction using scikit learn\n",
    "from sklearn.linear_model import LogisticRegression\n",
    "\n",
    "# Create instance and fit the model\n",
    "lr_model = LogisticRegression()\n",
    "lr_model.fit(X_train.values.reshape(-1,1), y_train.values.reshape(-1,1))\n",
    "\n",
    "# Make a prediction\n",
    "y_pred_sk = lr_model.predict(X_test.values.reshape(-1, 1))\n",
    "\n",
    "# Plot and find accuracy\n",
    "plt.clf()\n",
    "plt.scatter(X_test, y_pred_sk, c=\"red\")\n",
    "plt.show()\n",
    "\n",
    "#Accuracy\n",
    "print(f\"Accuracy = {lr_model.score(X_test.values.reshape(-1, 1), y_test.values.reshape(-1, 1))}\")\n",
    "# Accuracy is 83.75%"
   ]
  },
  {
   "cell_type": "code",
   "execution_count": null,
   "id": "5ffaaf38",
   "metadata": {},
   "outputs": [],
   "source": []
  }
 ],
 "metadata": {
  "kernelspec": {
   "display_name": "Python 3 (ipykernel)",
   "language": "python",
   "name": "python3"
  },
  "language_info": {
   "codemirror_mode": {
    "name": "ipython",
    "version": 3
   },
   "file_extension": ".py",
   "mimetype": "text/x-python",
   "name": "python",
   "nbconvert_exporter": "python",
   "pygments_lexer": "ipython3",
   "version": "3.11.0"
  }
 },
 "nbformat": 4,
 "nbformat_minor": 5
}
